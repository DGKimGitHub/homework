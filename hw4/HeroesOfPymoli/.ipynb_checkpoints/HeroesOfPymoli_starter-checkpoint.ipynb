{
 "cells": [
  {
   "cell_type": "markdown",
   "metadata": {},
   "source": [
    "### Heroes Of Pymoli Data Analysis\n",
    "* Of the 1163 active players, the vast majority are male (84%). There also exists, a smaller, but notable proportion of female players (14%).\n",
    "\n",
    "* Our peak age demographic falls between 20-24 (44.8%) with secondary groups falling between 15-19 (18.60%) and 25-29 (13.4%).  \n",
    "-----"
   ]
  },
  {
   "cell_type": "markdown",
   "metadata": {},
   "source": [
    "### Note\n",
    "* Instructions have been included for each segment. You do not have to follow them exactly, but they are included to help you think through the steps."
   ]
  },
  {
   "cell_type": "code",
   "execution_count": 1,
   "metadata": {},
   "outputs": [
    {
     "data": {
      "text/html": [
       "<div>\n",
       "<style scoped>\n",
       "    .dataframe tbody tr th:only-of-type {\n",
       "        vertical-align: middle;\n",
       "    }\n",
       "\n",
       "    .dataframe tbody tr th {\n",
       "        vertical-align: top;\n",
       "    }\n",
       "\n",
       "    .dataframe thead th {\n",
       "        text-align: right;\n",
       "    }\n",
       "</style>\n",
       "<table border=\"1\" class=\"dataframe\">\n",
       "  <thead>\n",
       "    <tr style=\"text-align: right;\">\n",
       "      <th></th>\n",
       "      <th>Purchase ID</th>\n",
       "      <th>SN</th>\n",
       "      <th>Age</th>\n",
       "      <th>Gender</th>\n",
       "      <th>Item ID</th>\n",
       "      <th>Item Name</th>\n",
       "      <th>Price</th>\n",
       "    </tr>\n",
       "  </thead>\n",
       "  <tbody>\n",
       "    <tr>\n",
       "      <th>0</th>\n",
       "      <td>0</td>\n",
       "      <td>Lisim78</td>\n",
       "      <td>20</td>\n",
       "      <td>Male</td>\n",
       "      <td>108</td>\n",
       "      <td>Extraction, Quickblade Of Trembling Hands</td>\n",
       "      <td>3.53</td>\n",
       "    </tr>\n",
       "    <tr>\n",
       "      <th>1</th>\n",
       "      <td>1</td>\n",
       "      <td>Lisovynya38</td>\n",
       "      <td>40</td>\n",
       "      <td>Male</td>\n",
       "      <td>143</td>\n",
       "      <td>Frenzied Scimitar</td>\n",
       "      <td>1.56</td>\n",
       "    </tr>\n",
       "    <tr>\n",
       "      <th>2</th>\n",
       "      <td>2</td>\n",
       "      <td>Ithergue48</td>\n",
       "      <td>24</td>\n",
       "      <td>Male</td>\n",
       "      <td>92</td>\n",
       "      <td>Final Critic</td>\n",
       "      <td>4.88</td>\n",
       "    </tr>\n",
       "    <tr>\n",
       "      <th>3</th>\n",
       "      <td>3</td>\n",
       "      <td>Chamassasya86</td>\n",
       "      <td>24</td>\n",
       "      <td>Male</td>\n",
       "      <td>100</td>\n",
       "      <td>Blindscythe</td>\n",
       "      <td>3.27</td>\n",
       "    </tr>\n",
       "    <tr>\n",
       "      <th>4</th>\n",
       "      <td>4</td>\n",
       "      <td>Iskosia90</td>\n",
       "      <td>23</td>\n",
       "      <td>Male</td>\n",
       "      <td>131</td>\n",
       "      <td>Fury</td>\n",
       "      <td>1.44</td>\n",
       "    </tr>\n",
       "  </tbody>\n",
       "</table>\n",
       "</div>"
      ],
      "text/plain": [
       "   Purchase ID             SN  Age Gender  Item ID  \\\n",
       "0            0        Lisim78   20   Male      108   \n",
       "1            1    Lisovynya38   40   Male      143   \n",
       "2            2     Ithergue48   24   Male       92   \n",
       "3            3  Chamassasya86   24   Male      100   \n",
       "4            4      Iskosia90   23   Male      131   \n",
       "\n",
       "                                   Item Name  Price  \n",
       "0  Extraction, Quickblade Of Trembling Hands   3.53  \n",
       "1                          Frenzied Scimitar   1.56  \n",
       "2                               Final Critic   4.88  \n",
       "3                                Blindscythe   3.27  \n",
       "4                                       Fury   1.44  "
      ]
     },
     "execution_count": 1,
     "metadata": {},
     "output_type": "execute_result"
    }
   ],
   "source": [
    "# Dependencies and Setup\n",
    "import pandas as pd\n",
    "import numpy as np\n",
    "\n",
    "# File to Load (Remember to Change These)\n",
    "file_to_load = \"Resources/purchase_data.csv\"\n",
    "\n",
    "# Read Purchasing File and store into Pandas data frame\n",
    "df = pd.read_csv(file_to_load)\n",
    "df.head()\n"
   ]
  },
  {
   "cell_type": "markdown",
   "metadata": {},
   "source": [
    "## Player Count"
   ]
  },
  {
   "cell_type": "markdown",
   "metadata": {},
   "source": [
    "* Display the total number of players\n"
   ]
  },
  {
   "cell_type": "code",
   "execution_count": 2,
   "metadata": {},
   "outputs": [
    {
     "name": "stdout",
     "output_type": "stream",
     "text": [
      "   Total Number of Player\n",
      "0                     576\n"
     ]
    }
   ],
   "source": [
    "player_count = len(df.SN.unique())\n",
    "player_count_df = pd.DataFrame(data=[player_count],columns=['Total Number of Player'])\n",
    "print(player_count_df)"
   ]
  },
  {
   "cell_type": "markdown",
   "metadata": {},
   "source": [
    "## Purchasing Analysis (Total)"
   ]
  },
  {
   "cell_type": "markdown",
   "metadata": {},
   "source": [
    "* Run basic calculations to obtain number of unique items, average price, etc.\n",
    "\n",
    "\n",
    "* Create a summary data frame to hold the results\n",
    "\n",
    "\n",
    "* Optional: give the displayed data cleaner formatting\n",
    "\n",
    "\n",
    "* Display the summary data frame\n"
   ]
  },
  {
   "cell_type": "code",
   "execution_count": 6,
   "metadata": {
    "scrolled": true
   },
   "outputs": [
    {
     "data": {
      "text/html": [
       "<style  type=\"text/css\" >\n",
       "</style>  \n",
       "<table id=\"T_21688d84_ec60_11e8_81cb_acde48001122\" > \n",
       "<thead>    <tr> \n",
       "        <th class=\"blank level0\" ></th> \n",
       "        <th class=\"col_heading level0 col0\" >Number of Unique Items</th> \n",
       "        <th class=\"col_heading level0 col1\" >Average Purchase Price</th> \n",
       "        <th class=\"col_heading level0 col2\" >Total Number of Purchase</th> \n",
       "        <th class=\"col_heading level0 col3\" >Total Revenue</th> \n",
       "    </tr></thead> \n",
       "<tbody>    <tr> \n",
       "        <th id=\"T_21688d84_ec60_11e8_81cb_acde48001122level0_row0\" class=\"row_heading level0 row0\" >0</th> \n",
       "        <td id=\"T_21688d84_ec60_11e8_81cb_acde48001122row0_col0\" class=\"data row0 col0\" >179</td> \n",
       "        <td id=\"T_21688d84_ec60_11e8_81cb_acde48001122row0_col1\" class=\"data row0 col1\" >$ 3.1</td> \n",
       "        <td id=\"T_21688d84_ec60_11e8_81cb_acde48001122row0_col2\" class=\"data row0 col2\" >780</td> \n",
       "        <td id=\"T_21688d84_ec60_11e8_81cb_acde48001122row0_col3\" class=\"data row0 col3\" >2,379.8</td> \n",
       "    </tr></tbody> \n",
       "</table> "
      ],
      "text/plain": [
       "<pandas.io.formats.style.Styler at 0x10956c5f8>"
      ]
     },
     "execution_count": 6,
     "metadata": {},
     "output_type": "execute_result"
    }
   ],
   "source": [
    "# number of unique items\n",
    "number_item = len(df[\"Item Name\"].value_counts())\n",
    "\n",
    "# average purchase price\n",
    "avg_price = df['Price'].mean()\n",
    "\n",
    "# total number of purchases\n",
    "total_purchase =len(df['Price'])\n",
    "\n",
    "# total revenue\n",
    "total_revenue = df['Price'].sum()\n",
    "\n",
    "# combining data set, transpose, rename\n",
    "df_1 = pd.DataFrame(data=[number_item, avg_price, total_purchase, total_revenue ])\n",
    "df_1 = df_1.transpose()\n",
    "\n",
    "df_1.rename(columns={0: 'Number of Unique Items',\n",
    "                      1: 'Average Purchase Price',\n",
    "                      2: 'Total Number of Purchase',\n",
    "                      3: 'Total Revenue'},inplace=True)\n",
    "df_1 = df_1.style.format({'Average Purchase Price': '$ {:,.1f}','Total Revenue': '{:,.1f}'})\n",
    "df_1\n",
    "\n"
   ]
  },
  {
   "cell_type": "markdown",
   "metadata": {},
   "source": [
    "## Gender Demographics"
   ]
  },
  {
   "cell_type": "markdown",
   "metadata": {},
   "source": [
    "* Percentage and Count of Male Players\n",
    "\n",
    "\n",
    "* Percentage and Count of Female Players\n",
    "\n",
    "\n",
    "* Percentage and Count of Other / Non-Disclosed\n",
    "\n",
    "\n"
   ]
  },
  {
   "cell_type": "code",
   "execution_count": 14,
   "metadata": {},
   "outputs": [
    {
     "data": {
      "text/html": [
       "<style  type=\"text/css\" >\n",
       "</style>  \n",
       "<table id=\"T_3087dfee_ec61_11e8_81cb_acde48001122\" > \n",
       "<thead>    <tr> \n",
       "        <th class=\"blank level0\" ></th> \n",
       "        <th class=\"col_heading level0 col0\" >Count</th> \n",
       "        <th class=\"col_heading level0 col1\" >Percent</th> \n",
       "    </tr></thead> \n",
       "<tbody>    <tr> \n",
       "        <th id=\"T_3087dfee_ec61_11e8_81cb_acde48001122level0_row0\" class=\"row_heading level0 row0\" >Male</th> \n",
       "        <td id=\"T_3087dfee_ec61_11e8_81cb_acde48001122row0_col0\" class=\"data row0 col0\" >484</td> \n",
       "        <td id=\"T_3087dfee_ec61_11e8_81cb_acde48001122row0_col1\" class=\"data row0 col1\" >84.0%</td> \n",
       "    </tr>    <tr> \n",
       "        <th id=\"T_3087dfee_ec61_11e8_81cb_acde48001122level0_row1\" class=\"row_heading level0 row1\" >Female</th> \n",
       "        <td id=\"T_3087dfee_ec61_11e8_81cb_acde48001122row1_col0\" class=\"data row1 col0\" >81</td> \n",
       "        <td id=\"T_3087dfee_ec61_11e8_81cb_acde48001122row1_col1\" class=\"data row1 col1\" >14.1%</td> \n",
       "    </tr>    <tr> \n",
       "        <th id=\"T_3087dfee_ec61_11e8_81cb_acde48001122level0_row2\" class=\"row_heading level0 row2\" >Other/Non-Disclosed</th> \n",
       "        <td id=\"T_3087dfee_ec61_11e8_81cb_acde48001122row2_col0\" class=\"data row2 col0\" >11</td> \n",
       "        <td id=\"T_3087dfee_ec61_11e8_81cb_acde48001122row2_col1\" class=\"data row2 col1\" >1.9%</td> \n",
       "    </tr></tbody> \n",
       "</table> "
      ],
      "text/plain": [
       "<pandas.io.formats.style.Styler at 0x11b6f4438>"
      ]
     },
     "execution_count": 14,
     "metadata": {},
     "output_type": "execute_result"
    }
   ],
   "source": [
    "# grouping\n",
    "sn = df.groupby(by='SN')\n",
    "gender_count = sn['Gender'].max().value_counts()\n",
    "\n",
    "# male\n",
    "male_count = gender_count['Male']\n",
    "male_percent = male_count/player_count*100\n",
    "\n",
    "# female\n",
    "female_count = gender_count['Female']\n",
    "female_percent = female_count/player_count*100\n",
    "\n",
    "# other/non-disclosed\n",
    "other_count = gender_count['Other / Non-Disclosed']\n",
    "other_percent = other_count/player_count*100\n",
    "\n",
    "# combining\n",
    "gender_df = pd.DataFrame([[male_count, male_percent], [female_count, female_percent], [other_count, other_percent]],index=['Male','Female','Other/Non-Disclosed'],columns=['Count','Percent'])\n",
    "gender_df = gender_df.style.format({'Percent': '{:,.1f}%'})\n",
    "gender_df"
   ]
  },
  {
   "cell_type": "markdown",
   "metadata": {},
   "source": [
    "\n",
    "## Purchasing Analysis (Gender)"
   ]
  },
  {
   "cell_type": "markdown",
   "metadata": {},
   "source": [
    "* Run basic calculations to obtain purchase count, avg. purchase price, avg. purchase total per person etc. by gender\n",
    "\n",
    "\n",
    "\n",
    "\n",
    "* Create a summary data frame to hold the results\n",
    "\n",
    "\n",
    "* Optional: give the displayed data cleaner formatting\n",
    "\n",
    "\n",
    "* Display the summary data frame"
   ]
  },
  {
   "cell_type": "code",
   "execution_count": 18,
   "metadata": {},
   "outputs": [
    {
     "data": {
      "text/html": [
       "<style  type=\"text/css\" >\n",
       "</style>  \n",
       "<table id=\"T_c124227e_ec61_11e8_81cb_acde48001122\" > \n",
       "<thead>    <tr> \n",
       "        <th class=\"blank level0\" ></th> \n",
       "        <th class=\"col_heading level0 col0\" >Purchase Count</th> \n",
       "        <th class=\"col_heading level0 col1\" >Average Purchase Price</th> \n",
       "        <th class=\"col_heading level0 col2\" >Total Revenue</th> \n",
       "        <th class=\"col_heading level0 col3\" >Normalized Price</th> \n",
       "    </tr></thead> \n",
       "<tbody>    <tr> \n",
       "        <th id=\"T_c124227e_ec61_11e8_81cb_acde48001122level0_row0\" class=\"row_heading level0 row0\" >Male</th> \n",
       "        <td id=\"T_c124227e_ec61_11e8_81cb_acde48001122row0_col0\" class=\"data row0 col0\" >652</td> \n",
       "        <td id=\"T_c124227e_ec61_11e8_81cb_acde48001122row0_col1\" class=\"data row0 col1\" >$ 3.02</td> \n",
       "        <td id=\"T_c124227e_ec61_11e8_81cb_acde48001122row0_col2\" class=\"data row0 col2\" >$ 1,967.64</td> \n",
       "        <td id=\"T_c124227e_ec61_11e8_81cb_acde48001122row0_col3\" class=\"data row0 col3\" >$ 4.07</td> \n",
       "    </tr>    <tr> \n",
       "        <th id=\"T_c124227e_ec61_11e8_81cb_acde48001122level0_row1\" class=\"row_heading level0 row1\" >Female</th> \n",
       "        <td id=\"T_c124227e_ec61_11e8_81cb_acde48001122row1_col0\" class=\"data row1 col0\" >113</td> \n",
       "        <td id=\"T_c124227e_ec61_11e8_81cb_acde48001122row1_col1\" class=\"data row1 col1\" >$ 3.20</td> \n",
       "        <td id=\"T_c124227e_ec61_11e8_81cb_acde48001122row1_col2\" class=\"data row1 col2\" >$ 361.94</td> \n",
       "        <td id=\"T_c124227e_ec61_11e8_81cb_acde48001122row1_col3\" class=\"data row1 col3\" >$ 4.47</td> \n",
       "    </tr>    <tr> \n",
       "        <th id=\"T_c124227e_ec61_11e8_81cb_acde48001122level0_row2\" class=\"row_heading level0 row2\" >Other/Non-Disclosed</th> \n",
       "        <td id=\"T_c124227e_ec61_11e8_81cb_acde48001122row2_col0\" class=\"data row2 col0\" >15</td> \n",
       "        <td id=\"T_c124227e_ec61_11e8_81cb_acde48001122row2_col1\" class=\"data row2 col1\" >$ 3.35</td> \n",
       "        <td id=\"T_c124227e_ec61_11e8_81cb_acde48001122row2_col2\" class=\"data row2 col2\" >$ 50.19</td> \n",
       "        <td id=\"T_c124227e_ec61_11e8_81cb_acde48001122row2_col3\" class=\"data row2 col3\" >$ 4.56</td> \n",
       "    </tr></tbody> \n",
       "</table> "
      ],
      "text/plain": [
       "<pandas.io.formats.style.Styler at 0x11b7cb278>"
      ]
     },
     "execution_count": 18,
     "metadata": {},
     "output_type": "execute_result"
    }
   ],
   "source": [
    "male_only_df = df[df['Gender']=='Male']\n",
    "female_only_df = df[df['Gender']=='Female']\n",
    "other_only_df = df[df['Gender']=='Other / Non-Disclosed']\n",
    "\n",
    "# Total Purchases\n",
    "male_purchase_count = len(male_only_df['Price'])\n",
    "female_purchase_count = len(female_only_df['Price'])\n",
    "other_purchase_count = len(other_only_df['Price'])\n",
    "\n",
    "# Average Purchase Price\n",
    "male_avg_price = male_only_df['Price'].mean()\n",
    "female_avg_price = female_only_df['Price'].mean()\n",
    "other_avg_price = other_only_df['Price'].mean()\n",
    "\n",
    "# Total Purchase Value\n",
    "male_total_purchase = male_only_df['Price'].sum()\n",
    "female_total_purchase = female_only_df['Price'].sum()\n",
    "other_total_purchase = other_only_df['Price'].sum()\n",
    "\n",
    "# Normalized Totals\n",
    "male_avg_price_norm = male_total_purchase/male_count\n",
    "female_avg_price_norm = female_total_purchase/female_count\n",
    "other_avg_price_norm = other_total_purchase/other_count\n",
    "\n",
    "# Compiling analysis into a single table\n",
    "df_2 = pd.DataFrame([[male_purchase_count, male_avg_price, male_total_purchase, male_avg_price_norm],\n",
    "                             [female_purchase_count, female_avg_price, female_total_purchase, female_avg_price_norm],\n",
    "                             [other_purchase_count, other_avg_price, other_total_purchase, other_avg_price_norm]],\n",
    "                             index=['Male','Female','Other/Non-Disclosed'],\n",
    "                             columns=['Purchase Count','Average Purchase Price','Total Revenue','Normalized Price'])\n",
    "df_2 = df_2.style.format({'Average Purchase Price': '$ {:,.2f}','Total Revenue': '$ {:,.2f}','Normalized Price': '$ {:,.2f}'})\n",
    "df_2"
   ]
  },
  {
   "cell_type": "markdown",
   "metadata": {},
   "source": [
    "## Age Demographics"
   ]
  },
  {
   "cell_type": "markdown",
   "metadata": {},
   "source": [
    "* Establish bins for ages\n",
    "\n",
    "\n",
    "* Categorize the existing players using the age bins. Hint: use pd.cut()\n",
    "\n",
    "\n",
    "* Calculate the numbers and percentages by age group\n",
    "\n",
    "\n",
    "* Create a summary data frame to hold the results\n",
    "\n",
    "\n",
    "* Optional: round the percentage column to two decimal points\n",
    "\n",
    "\n",
    "* Display Age Demographics Table\n"
   ]
  },
  {
   "cell_type": "code",
   "execution_count": 27,
   "metadata": {},
   "outputs": [
    {
     "ename": "AttributeError",
     "evalue": "'int' object has no attribute 'value_counts'",
     "output_type": "error",
     "traceback": [
      "\u001b[0;31m---------------------------------------------------------------------------\u001b[0m",
      "\u001b[0;31mAttributeError\u001b[0m                            Traceback (most recent call last)",
      "\u001b[0;32m<ipython-input-27-9e4bd9003174>\u001b[0m in \u001b[0;36m<module>\u001b[0;34m()\u001b[0m\n\u001b[1;32m     34\u001b[0m \u001b[0;34m\u001b[0m\u001b[0m\n\u001b[1;32m     35\u001b[0m \u001b[0;31m# Normalized Prices\u001b[0m\u001b[0;34m\u001b[0m\u001b[0;34m\u001b[0m\u001b[0m\n\u001b[0;32m---> 36\u001b[0;31m \u001b[0mplayers_by_bin\u001b[0m \u001b[0;34m=\u001b[0m \u001b[0mnumber_item\u001b[0m\u001b[0;34m.\u001b[0m\u001b[0mvalue_counts\u001b[0m\u001b[0;34m(\u001b[0m\u001b[0;34m)\u001b[0m\u001b[0;34m\u001b[0m\u001b[0m\n\u001b[0m\u001b[1;32m     37\u001b[0m \u001b[0mplayer_count_by_age\u001b[0m\u001b[0;34m=\u001b[0m\u001b[0mlist\u001b[0m\u001b[0;34m(\u001b[0m\u001b[0;34m)\u001b[0m\u001b[0;34m\u001b[0m\u001b[0m\n\u001b[1;32m     38\u001b[0m \u001b[0;32mfor\u001b[0m \u001b[0mage_range\u001b[0m \u001b[0;32min\u001b[0m \u001b[0mlabels\u001b[0m\u001b[0;34m:\u001b[0m\u001b[0;34m\u001b[0m\u001b[0m\n",
      "\u001b[0;31mAttributeError\u001b[0m: 'int' object has no attribute 'value_counts'"
     ]
    }
   ],
   "source": []
  },
  {
   "cell_type": "markdown",
   "metadata": {},
   "source": [
    "## Purchasing Analysis (Age)"
   ]
  },
  {
   "cell_type": "markdown",
   "metadata": {},
   "source": [
    "* Bin the purchase_data data frame by age\n",
    "\n",
    "\n",
    "* Run basic calculations to obtain purchase count, avg. purchase price, avg. purchase total per person etc. in the table below\n",
    "\n",
    "\n",
    "* Create a summary data frame to hold the results\n",
    "\n",
    "\n",
    "* Optional: give the displayed data cleaner formatting\n",
    "\n",
    "\n",
    "* Display the summary data frame"
   ]
  },
  {
   "cell_type": "code",
   "execution_count": 23,
   "metadata": {},
   "outputs": [],
   "source": [
    "# hard part;\n"
   ]
  },
  {
   "cell_type": "markdown",
   "metadata": {},
   "source": [
    "## Top Spenders"
   ]
  },
  {
   "cell_type": "markdown",
   "metadata": {},
   "source": [
    "* Run basic calculations to obtain the results in the table below\n",
    "\n",
    "\n",
    "* Create a summary data frame to hold the results\n",
    "\n",
    "\n",
    "* Sort the total purchase value column in descending order\n",
    "\n",
    "\n",
    "* Optional: give the displayed data cleaner formatting\n",
    "\n",
    "\n",
    "* Display a preview of the summary data frame\n",
    "\n"
   ]
  },
  {
   "cell_type": "code",
   "execution_count": 20,
   "metadata": {},
   "outputs": [
    {
     "data": {
      "text/html": [
       "<style  type=\"text/css\" >\n",
       "</style>  \n",
       "<table id=\"T_e5019400_ec62_11e8_81cb_acde48001122\" > \n",
       "<thead>    <tr> \n",
       "        <th class=\"blank level0\" ></th> \n",
       "        <th class=\"col_heading level0 col0\" >SN</th> \n",
       "        <th class=\"col_heading level0 col1\" >Total Revenue</th> \n",
       "        <th class=\"col_heading level0 col2\" >Purchase Count</th> \n",
       "        <th class=\"col_heading level0 col3\" >Average Purchase Price</th> \n",
       "    </tr></thead> \n",
       "<tbody>    <tr> \n",
       "        <th id=\"T_e5019400_ec62_11e8_81cb_acde48001122level0_row0\" class=\"row_heading level0 row0\" >0</th> \n",
       "        <td id=\"T_e5019400_ec62_11e8_81cb_acde48001122row0_col0\" class=\"data row0 col0\" >Lisosia93</td> \n",
       "        <td id=\"T_e5019400_ec62_11e8_81cb_acde48001122row0_col1\" class=\"data row0 col1\" >$ 18.96</td> \n",
       "        <td id=\"T_e5019400_ec62_11e8_81cb_acde48001122row0_col2\" class=\"data row0 col2\" >5</td> \n",
       "        <td id=\"T_e5019400_ec62_11e8_81cb_acde48001122row0_col3\" class=\"data row0 col3\" >$ 3.79</td> \n",
       "    </tr>    <tr> \n",
       "        <th id=\"T_e5019400_ec62_11e8_81cb_acde48001122level0_row1\" class=\"row_heading level0 row1\" >1</th> \n",
       "        <td id=\"T_e5019400_ec62_11e8_81cb_acde48001122row1_col0\" class=\"data row1 col0\" >Idastidru52</td> \n",
       "        <td id=\"T_e5019400_ec62_11e8_81cb_acde48001122row1_col1\" class=\"data row1 col1\" >$ 15.45</td> \n",
       "        <td id=\"T_e5019400_ec62_11e8_81cb_acde48001122row1_col2\" class=\"data row1 col2\" >4</td> \n",
       "        <td id=\"T_e5019400_ec62_11e8_81cb_acde48001122row1_col3\" class=\"data row1 col3\" >$ 3.86</td> \n",
       "    </tr>    <tr> \n",
       "        <th id=\"T_e5019400_ec62_11e8_81cb_acde48001122level0_row2\" class=\"row_heading level0 row2\" >2</th> \n",
       "        <td id=\"T_e5019400_ec62_11e8_81cb_acde48001122row2_col0\" class=\"data row2 col0\" >Chamjask73</td> \n",
       "        <td id=\"T_e5019400_ec62_11e8_81cb_acde48001122row2_col1\" class=\"data row2 col1\" >$ 13.83</td> \n",
       "        <td id=\"T_e5019400_ec62_11e8_81cb_acde48001122row2_col2\" class=\"data row2 col2\" >3</td> \n",
       "        <td id=\"T_e5019400_ec62_11e8_81cb_acde48001122row2_col3\" class=\"data row2 col3\" >$ 4.61</td> \n",
       "    </tr>    <tr> \n",
       "        <th id=\"T_e5019400_ec62_11e8_81cb_acde48001122level0_row3\" class=\"row_heading level0 row3\" >3</th> \n",
       "        <td id=\"T_e5019400_ec62_11e8_81cb_acde48001122row3_col0\" class=\"data row3 col0\" >Iral74</td> \n",
       "        <td id=\"T_e5019400_ec62_11e8_81cb_acde48001122row3_col1\" class=\"data row3 col1\" >$ 13.62</td> \n",
       "        <td id=\"T_e5019400_ec62_11e8_81cb_acde48001122row3_col2\" class=\"data row3 col2\" >4</td> \n",
       "        <td id=\"T_e5019400_ec62_11e8_81cb_acde48001122row3_col3\" class=\"data row3 col3\" >$ 3.40</td> \n",
       "    </tr>    <tr> \n",
       "        <th id=\"T_e5019400_ec62_11e8_81cb_acde48001122level0_row4\" class=\"row_heading level0 row4\" >4</th> \n",
       "        <td id=\"T_e5019400_ec62_11e8_81cb_acde48001122row4_col0\" class=\"data row4 col0\" >Iskadarya95</td> \n",
       "        <td id=\"T_e5019400_ec62_11e8_81cb_acde48001122row4_col1\" class=\"data row4 col1\" >$ 13.10</td> \n",
       "        <td id=\"T_e5019400_ec62_11e8_81cb_acde48001122row4_col2\" class=\"data row4 col2\" >3</td> \n",
       "        <td id=\"T_e5019400_ec62_11e8_81cb_acde48001122row4_col3\" class=\"data row4 col3\" >$ 4.37</td> \n",
       "    </tr></tbody> \n",
       "</table> "
      ],
      "text/plain": [
       "<pandas.io.formats.style.Styler at 0x11b7fb4a8>"
      ]
     },
     "execution_count": 20,
     "metadata": {},
     "output_type": "execute_result"
    }
   ],
   "source": [
    "# Find and sort by total revenue\n",
    "df_group_name = df.groupby(by='SN')\n",
    "df_by_spending = pd.DataFrame(df_group_name['Price'].sum().sort_values(ascending=False))\n",
    "df_by_spending.rename(columns={'Price':'Total Revenue'},inplace=True)\n",
    "df_by_spending.reset_index(inplace=True)\n",
    "\n",
    "# Find purchase count of top five\n",
    "first_spender_purchase_count = df_group_name['Price'].count()[df_by_spending['SN'][0]]\n",
    "second_spender_purchase_count = df_group_name['Price'].count()[df_by_spending['SN'][1]]\n",
    "third_spender_purchase_count = df_group_name['Price'].count()[df_by_spending['SN'][2]]\n",
    "fourth_spender_purchase_count = df_group_name['Price'].count()[df_by_spending['SN'][3]]\n",
    "fifth_spender_purchase_count = df_group_name['Price'].count()[df_by_spending['SN'][4]]\n",
    "\n",
    "# Find Average purchase price of top five\n",
    "first_spender_avg_purchase = df_group_name['Price'].mean()[df_by_spending['SN'][0]]\n",
    "second_spender_avg_purchase = df_group_name['Price'].mean()[df_by_spending['SN'][1]]\n",
    "third_spender_avg_purchase = df_group_name['Price'].mean()[df_by_spending['SN'][2]]\n",
    "fourth_spender_avg_purchase = df_group_name['Price'].mean()[df_by_spending['SN'][3]]\n",
    "fifth_spender_avg_purchase = df_group_name['Price'].mean()[df_by_spending['SN'][4]]\n",
    "\n",
    "# Compiling analysis into a single table\n",
    "top_spenders_df = pd.DataFrame(df_by_spending[:5])\n",
    "top_spenders_df['Purchase Count'] = [first_spender_purchase_count,\n",
    "                                    second_spender_purchase_count,\n",
    "                                    third_spender_purchase_count,\n",
    "                                    fourth_spender_purchase_count,\n",
    "                                    fifth_spender_purchase_count]\n",
    "top_spenders_df['Average Purchase Price'] = [first_spender_avg_purchase,\n",
    "                                            second_spender_avg_purchase,\n",
    "                                            third_spender_avg_purchase,\n",
    "                                            fourth_spender_avg_purchase,\n",
    "                                            fifth_spender_avg_purchase]\n",
    "top_spenders_df = top_spenders_df.style.format({'Average Purchase Price': '$ {:,.2f}','Total Revenue': '$ {:,.2f}'})\n",
    "top_spenders_df"
   ]
  },
  {
   "cell_type": "markdown",
   "metadata": {},
   "source": [
    "## Most Popular Items"
   ]
  },
  {
   "cell_type": "markdown",
   "metadata": {},
   "source": [
    "* Retrieve the Item ID, Item Name, and Item Price columns\n",
    "\n",
    "\n",
    "* Group by Item ID and Item Name. Perform calculations to obtain purchase count, item price, and total purchase value\n",
    "\n",
    "\n",
    "* Create a summary data frame to hold the results\n",
    "\n",
    "\n",
    "* Sort the purchase count column in descending order\n",
    "\n",
    "\n",
    "* Optional: give the displayed data cleaner formatting\n",
    "\n",
    "\n",
    "* Display a preview of the summary data frame\n",
    "\n"
   ]
  },
  {
   "cell_type": "code",
   "execution_count": 21,
   "metadata": {},
   "outputs": [
    {
     "data": {
      "text/html": [
       "<style  type=\"text/css\" >\n",
       "</style>  \n",
       "<table id=\"T_ec69d608_ec62_11e8_81cb_acde48001122\" > \n",
       "<thead>    <tr> \n",
       "        <th class=\"blank level0\" ></th> \n",
       "        <th class=\"col_heading level0 col0\" >Item Name</th> \n",
       "        <th class=\"col_heading level0 col1\" >Purchase Count</th> \n",
       "        <th class=\"col_heading level0 col2\" >Item ID</th> \n",
       "        <th class=\"col_heading level0 col3\" >Item Price</th> \n",
       "        <th class=\"col_heading level0 col4\" >Total Revenue</th> \n",
       "    </tr></thead> \n",
       "<tbody>    <tr> \n",
       "        <th id=\"T_ec69d608_ec62_11e8_81cb_acde48001122level0_row0\" class=\"row_heading level0 row0\" >0</th> \n",
       "        <td id=\"T_ec69d608_ec62_11e8_81cb_acde48001122row0_col0\" class=\"data row0 col0\" >Final Critic</td> \n",
       "        <td id=\"T_ec69d608_ec62_11e8_81cb_acde48001122row0_col1\" class=\"data row0 col1\" >13</td> \n",
       "        <td id=\"T_ec69d608_ec62_11e8_81cb_acde48001122row0_col2\" class=\"data row0 col2\" >92</td> \n",
       "        <td id=\"T_ec69d608_ec62_11e8_81cb_acde48001122row0_col3\" class=\"data row0 col3\" >$ 4.88</td> \n",
       "        <td id=\"T_ec69d608_ec62_11e8_81cb_acde48001122row0_col4\" class=\"data row0 col4\" >$ 63.44</td> \n",
       "    </tr>    <tr> \n",
       "        <th id=\"T_ec69d608_ec62_11e8_81cb_acde48001122level0_row1\" class=\"row_heading level0 row1\" >1</th> \n",
       "        <td id=\"T_ec69d608_ec62_11e8_81cb_acde48001122row1_col0\" class=\"data row1 col0\" >Oathbreaker, Last Hope of the Breaking Storm</td> \n",
       "        <td id=\"T_ec69d608_ec62_11e8_81cb_acde48001122row1_col1\" class=\"data row1 col1\" >12</td> \n",
       "        <td id=\"T_ec69d608_ec62_11e8_81cb_acde48001122row1_col2\" class=\"data row1 col2\" >178</td> \n",
       "        <td id=\"T_ec69d608_ec62_11e8_81cb_acde48001122row1_col3\" class=\"data row1 col3\" >$ 4.23</td> \n",
       "        <td id=\"T_ec69d608_ec62_11e8_81cb_acde48001122row1_col4\" class=\"data row1 col4\" >$ 50.76</td> \n",
       "    </tr>    <tr> \n",
       "        <th id=\"T_ec69d608_ec62_11e8_81cb_acde48001122level0_row2\" class=\"row_heading level0 row2\" >2</th> \n",
       "        <td id=\"T_ec69d608_ec62_11e8_81cb_acde48001122row2_col0\" class=\"data row2 col0\" >Nirvana</td> \n",
       "        <td id=\"T_ec69d608_ec62_11e8_81cb_acde48001122row2_col1\" class=\"data row2 col1\" >9</td> \n",
       "        <td id=\"T_ec69d608_ec62_11e8_81cb_acde48001122row2_col2\" class=\"data row2 col2\" >82</td> \n",
       "        <td id=\"T_ec69d608_ec62_11e8_81cb_acde48001122row2_col3\" class=\"data row2 col3\" >$ 4.90</td> \n",
       "        <td id=\"T_ec69d608_ec62_11e8_81cb_acde48001122row2_col4\" class=\"data row2 col4\" >$ 44.10</td> \n",
       "    </tr>    <tr> \n",
       "        <th id=\"T_ec69d608_ec62_11e8_81cb_acde48001122level0_row3\" class=\"row_heading level0 row3\" >3</th> \n",
       "        <td id=\"T_ec69d608_ec62_11e8_81cb_acde48001122row3_col0\" class=\"data row3 col0\" >Persuasion</td> \n",
       "        <td id=\"T_ec69d608_ec62_11e8_81cb_acde48001122row3_col1\" class=\"data row3 col1\" >9</td> \n",
       "        <td id=\"T_ec69d608_ec62_11e8_81cb_acde48001122row3_col2\" class=\"data row3 col2\" >141</td> \n",
       "        <td id=\"T_ec69d608_ec62_11e8_81cb_acde48001122row3_col3\" class=\"data row3 col3\" >$ 3.19</td> \n",
       "        <td id=\"T_ec69d608_ec62_11e8_81cb_acde48001122row3_col4\" class=\"data row3 col4\" >$ 28.71</td> \n",
       "    </tr>    <tr> \n",
       "        <th id=\"T_ec69d608_ec62_11e8_81cb_acde48001122level0_row4\" class=\"row_heading level0 row4\" >4</th> \n",
       "        <td id=\"T_ec69d608_ec62_11e8_81cb_acde48001122row4_col0\" class=\"data row4 col0\" >Fiery Glass Crusader</td> \n",
       "        <td id=\"T_ec69d608_ec62_11e8_81cb_acde48001122row4_col1\" class=\"data row4 col1\" >9</td> \n",
       "        <td id=\"T_ec69d608_ec62_11e8_81cb_acde48001122row4_col2\" class=\"data row4 col2\" >145</td> \n",
       "        <td id=\"T_ec69d608_ec62_11e8_81cb_acde48001122row4_col3\" class=\"data row4 col3\" >$ 4.58</td> \n",
       "        <td id=\"T_ec69d608_ec62_11e8_81cb_acde48001122row4_col4\" class=\"data row4 col4\" >$ 41.22</td> \n",
       "    </tr></tbody> \n",
       "</table> "
      ],
      "text/plain": [
       "<pandas.io.formats.style.Styler at 0x11b8176d8>"
      ]
     },
     "execution_count": 21,
     "metadata": {},
     "output_type": "execute_result"
    }
   ],
   "source": [
    "df_group_itemname = df.groupby(by='Item Name')\n",
    "df_by_pop_items = pd.DataFrame(df_group_itemname['Price'].count().sort_values(ascending=False))\n",
    "df_by_pop_items.rename(columns={'Price':'Purchase Count'},inplace=True)\n",
    "df_by_pop_items.reset_index(inplace=True)\n",
    "\n",
    "# Find Item IDs and Price\n",
    "most_pop_itemNames = df_by_pop_items['Item Name'][0:5]\n",
    "most_pop_itemIDs = list()\n",
    "most_pop_itemPrice = list()\n",
    "for item in most_pop_itemNames:\n",
    "    for item_iter in range(len(df['Item Name'])):\n",
    "        if df['Item Name'][item_iter]==item:\n",
    "            most_pop_itemIDs.append(df['Item ID'][item_iter])\n",
    "            most_pop_itemPrice.append(df['Price'][item_iter])\n",
    "            break\n",
    "\n",
    "# Find Total Purchase Value\n",
    "most_pop_totalPurchaseValue = list()\n",
    "for i in range(5):\n",
    "    count = df_by_pop_items['Purchase Count'][i]\n",
    "    most_pop_totalPurchaseValue.append(count*most_pop_itemPrice[i])\n",
    "\n",
    "# combining into a single table\n",
    "pop_items_df = pd.DataFrame(df_by_pop_items[:5])\n",
    "pop_items_df['Item ID'] = most_pop_itemIDs\n",
    "pop_items_df['Item Price'] = most_pop_itemPrice\n",
    "pop_items_df['Total Revenue'] = most_pop_totalPurchaseValue\n",
    "\n",
    "pop_items_df = pop_items_df.style.format({'Item Price': '$ {:,.2f}','Total Revenue': '$ {:,.2f}'})\n",
    "pop_items_df"
   ]
  },
  {
   "cell_type": "markdown",
   "metadata": {},
   "source": [
    "## Most Profitable Items"
   ]
  },
  {
   "cell_type": "markdown",
   "metadata": {},
   "source": [
    "* Sort the above table by total purchase value in descending order\n",
    "\n",
    "\n",
    "* Optional: give the displayed data cleaner formatting\n",
    "\n",
    "\n",
    "* Display a preview of the data frame\n",
    "\n"
   ]
  },
  {
   "cell_type": "code",
   "execution_count": 22,
   "metadata": {
    "scrolled": true
   },
   "outputs": [
    {
     "data": {
      "text/html": [
       "<style  type=\"text/css\" >\n",
       "</style>  \n",
       "<table id=\"T_01977c92_ec63_11e8_81cb_acde48001122\" > \n",
       "<thead>    <tr> \n",
       "        <th class=\"blank level0\" ></th> \n",
       "        <th class=\"col_heading level0 col0\" >Item Name</th> \n",
       "        <th class=\"col_heading level0 col1\" >Purchase Count</th> \n",
       "        <th class=\"col_heading level0 col2\" >Item ID</th> \n",
       "        <th class=\"col_heading level0 col3\" >Price</th> \n",
       "        <th class=\"col_heading level0 col4\" >Total Revenue</th> \n",
       "    </tr></thead> \n",
       "<tbody>    <tr> \n",
       "        <th id=\"T_01977c92_ec63_11e8_81cb_acde48001122level0_row0\" class=\"row_heading level0 row0\" >0</th> \n",
       "        <td id=\"T_01977c92_ec63_11e8_81cb_acde48001122row0_col0\" class=\"data row0 col0\" >Final Critic</td> \n",
       "        <td id=\"T_01977c92_ec63_11e8_81cb_acde48001122row0_col1\" class=\"data row0 col1\" >13</td> \n",
       "        <td id=\"T_01977c92_ec63_11e8_81cb_acde48001122row0_col2\" class=\"data row0 col2\" >92</td> \n",
       "        <td id=\"T_01977c92_ec63_11e8_81cb_acde48001122row0_col3\" class=\"data row0 col3\" >$ 4.88</td> \n",
       "        <td id=\"T_01977c92_ec63_11e8_81cb_acde48001122row0_col4\" class=\"data row0 col4\" >$ 63.44</td> \n",
       "    </tr>    <tr> \n",
       "        <th id=\"T_01977c92_ec63_11e8_81cb_acde48001122level0_row1\" class=\"row_heading level0 row1\" >1</th> \n",
       "        <td id=\"T_01977c92_ec63_11e8_81cb_acde48001122row1_col0\" class=\"data row1 col0\" >Oathbreaker, Last Hope of the Breaking Storm</td> \n",
       "        <td id=\"T_01977c92_ec63_11e8_81cb_acde48001122row1_col1\" class=\"data row1 col1\" >12</td> \n",
       "        <td id=\"T_01977c92_ec63_11e8_81cb_acde48001122row1_col2\" class=\"data row1 col2\" >178</td> \n",
       "        <td id=\"T_01977c92_ec63_11e8_81cb_acde48001122row1_col3\" class=\"data row1 col3\" >$ 4.23</td> \n",
       "        <td id=\"T_01977c92_ec63_11e8_81cb_acde48001122row1_col4\" class=\"data row1 col4\" >$ 50.76</td> \n",
       "    </tr>    <tr> \n",
       "        <th id=\"T_01977c92_ec63_11e8_81cb_acde48001122level0_row2\" class=\"row_heading level0 row2\" >2</th> \n",
       "        <td id=\"T_01977c92_ec63_11e8_81cb_acde48001122row2_col0\" class=\"data row2 col0\" >Nirvana</td> \n",
       "        <td id=\"T_01977c92_ec63_11e8_81cb_acde48001122row2_col1\" class=\"data row2 col1\" >9</td> \n",
       "        <td id=\"T_01977c92_ec63_11e8_81cb_acde48001122row2_col2\" class=\"data row2 col2\" >82</td> \n",
       "        <td id=\"T_01977c92_ec63_11e8_81cb_acde48001122row2_col3\" class=\"data row2 col3\" >$ 4.90</td> \n",
       "        <td id=\"T_01977c92_ec63_11e8_81cb_acde48001122row2_col4\" class=\"data row2 col4\" >$ 44.10</td> \n",
       "    </tr>    <tr> \n",
       "        <th id=\"T_01977c92_ec63_11e8_81cb_acde48001122level0_row3\" class=\"row_heading level0 row3\" >3</th> \n",
       "        <td id=\"T_01977c92_ec63_11e8_81cb_acde48001122row3_col0\" class=\"data row3 col0\" >Fiery Glass Crusader</td> \n",
       "        <td id=\"T_01977c92_ec63_11e8_81cb_acde48001122row3_col1\" class=\"data row3 col1\" >9</td> \n",
       "        <td id=\"T_01977c92_ec63_11e8_81cb_acde48001122row3_col2\" class=\"data row3 col2\" >145</td> \n",
       "        <td id=\"T_01977c92_ec63_11e8_81cb_acde48001122row3_col3\" class=\"data row3 col3\" >$ 4.58</td> \n",
       "        <td id=\"T_01977c92_ec63_11e8_81cb_acde48001122row3_col4\" class=\"data row3 col4\" >$ 41.22</td> \n",
       "    </tr>    <tr> \n",
       "        <th id=\"T_01977c92_ec63_11e8_81cb_acde48001122level0_row4\" class=\"row_heading level0 row4\" >4</th> \n",
       "        <td id=\"T_01977c92_ec63_11e8_81cb_acde48001122row4_col0\" class=\"data row4 col0\" >Singed Scalpel</td> \n",
       "        <td id=\"T_01977c92_ec63_11e8_81cb_acde48001122row4_col1\" class=\"data row4 col1\" >8</td> \n",
       "        <td id=\"T_01977c92_ec63_11e8_81cb_acde48001122row4_col2\" class=\"data row4 col2\" >103</td> \n",
       "        <td id=\"T_01977c92_ec63_11e8_81cb_acde48001122row4_col3\" class=\"data row4 col3\" >$ 4.35</td> \n",
       "        <td id=\"T_01977c92_ec63_11e8_81cb_acde48001122row4_col4\" class=\"data row4 col4\" >$ 34.80</td> \n",
       "    </tr></tbody> \n",
       "</table> "
      ],
      "text/plain": [
       "<pandas.io.formats.style.Styler at 0x11b701ba8>"
      ]
     },
     "execution_count": 22,
     "metadata": {},
     "output_type": "execute_result"
    }
   ],
   "source": [
    "# grouping\n",
    "df_group_itemname = df.groupby(by='Item Name')\n",
    "df_by_pop_items = pd.DataFrame(df_group_itemname['Price'].count().sort_values(ascending=False))\n",
    "df_by_pop_items.rename(columns={'Price':'Purchase Count'},inplace=True)\n",
    "df_by_pop_items.reset_index(inplace=True)\n",
    "\n",
    "item_IDs = list()\n",
    "item_value = list()\n",
    "for item in df_by_pop_items['Item Name']:\n",
    "    for item_iter in range(len(df['Item Name'])):\n",
    "        if df['Item Name'][item_iter]==item:\n",
    "            item_IDs.append(df['Item ID'][item_iter])\n",
    "            item_value.append(df['Price'][item_iter])\n",
    "            break\n",
    "            \n",
    "df_by_pop_items['Item ID'] = item_IDs\n",
    "df_by_pop_items['Price']=item_value\n",
    "df_by_pop_items['Total Revenue']=df_by_pop_items['Price']*df_by_pop_items['Purchase Count']\n",
    "df_by_pop_items.sort_values(by='Total Revenue',ascending=False,inplace=True)\n",
    "df_by_pop_items.reset_index(inplace=True)\n",
    "df_by_pop_items.drop('index',axis=1,inplace=True)\n",
    "\n",
    "# combining\n",
    "most_profitable_df = pd.DataFrame(df_by_pop_items[:5])\n",
    "most_profitable_df = most_profitable_df.style.format({'Price': '$ {:,.2f}','Total Revenue': '$ {:,.2f}'})\n",
    "most_profitable_df"
   ]
  },
  {
   "cell_type": "code",
   "execution_count": null,
   "metadata": {},
   "outputs": [],
   "source": []
  }
 ],
 "metadata": {
  "anaconda-cloud": {},
  "kernel_info": {
   "name": "python3"
  },
  "kernelspec": {
   "display_name": "Python 3",
   "language": "python",
   "name": "python3"
  },
  "language_info": {
   "codemirror_mode": {
    "name": "ipython",
    "version": 3
   },
   "file_extension": ".py",
   "mimetype": "text/x-python",
   "name": "python",
   "nbconvert_exporter": "python",
   "pygments_lexer": "ipython3",
   "version": "3.7.0"
  },
  "nteract": {
   "version": "0.2.0"
  }
 },
 "nbformat": 4,
 "nbformat_minor": 2
}
